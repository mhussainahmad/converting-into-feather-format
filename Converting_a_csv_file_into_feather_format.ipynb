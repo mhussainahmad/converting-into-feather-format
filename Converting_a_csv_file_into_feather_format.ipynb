{
  "nbformat": 4,
  "nbformat_minor": 0,
  "metadata": {
    "colab": {
      "name": "Converting a csv file into feather format.ipynb",
      "provenance": [],
      "authorship_tag": "ABX9TyOz/x0ICkXsaV6W+2jyIUx1"
    },
    "kernelspec": {
      "name": "python3",
      "display_name": "Python 3"
    },
    "language_info": {
      "name": "python"
    }
  },
  "cells": [
    {
      "cell_type": "code",
      "execution_count": null,
      "metadata": {
        "id": "AwQ0sWAZ8q7q"
      },
      "outputs": [],
      "source": [
        ""
      ]
    }
  ]
}